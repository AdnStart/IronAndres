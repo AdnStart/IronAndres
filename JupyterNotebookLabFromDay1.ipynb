{
 "cells": [
  {
   "cell_type": "markdown",
   "id": "09b8541e",
   "metadata": {},
   "source": [
    "# Basil's perfect holidays place"
   ]
  },
  {
   "cell_type": "markdown",
   "id": "4560c14d",
   "metadata": {},
   "source": [
    "This notebook will tell you all about Basil's preferred holidays place"
   ]
  },
  {
   "cell_type": "code",
   "execution_count": 7,
   "id": "70d35ec2",
   "metadata": {},
   "outputs": [
    {
     "name": "stdout",
     "output_type": "stream",
     "text": [
      "What's your name?Basil\n",
      "we'll be looking at Basil 's preferred holiday destination\n"
     ]
    }
   ],
   "source": [
    "def name():\n",
    "    name = input(\"What's your name?\")\n",
    "    return name\n",
    "\n",
    "name = name()\n",
    "\n",
    "print(\"we'll be looking at\", name,\"'s preferred holiday destination\")"
   ]
  },
  {
   "cell_type": "markdown",
   "id": "963e7c42",
   "metadata": {},
   "source": [
    "![alt text](https://www.markdownguide.org/assets/images/tux.png)"
   ]
  },
  {
   "cell_type": "code",
   "execution_count": 27,
   "id": "08b68c83",
   "metadata": {},
   "outputs": [
    {
     "name": "stdout",
     "output_type": "stream",
     "text": [
      "Can you tell us what is your favorite place for holidays?Maledives\n",
      "Basil's preferred place for a holiday is Maledives\n"
     ]
    }
   ],
   "source": [
    "def holidays():\n",
    "    place = input(\"Can you tell us what is your favorite place for holidays?\")\n",
    "    return place\n",
    "\n",
    "place = holidays()\n",
    "\n",
    "print(\"Basil's preferred place for a holiday is\", place) "
   ]
  },
  {
   "cell_type": "markdown",
   "id": "c91473a4",
   "metadata": {},
   "source": [
    "![alt text](https://en.wikipedia.org/wiki/Maldives#/media/File:Man_on_sand_bank_in_the_Maldives_looking_at_sea.jpg)"
   ]
  },
  {
   "cell_type": "markdown",
   "id": "dbfc443c",
   "metadata": {},
   "source": [
    "Top reasons to go there:\n",
    "1. *Sun*\n",
    "2. **Beach**\n",
    "3. Landspaces"
   ]
  },
  {
   "cell_type": "code",
   "execution_count": 32,
   "id": "2dc3ab66",
   "metadata": {},
   "outputs": [
    {
     "name": "stdout",
     "output_type": "stream",
     "text": [
      "zsh:1: bad pattern: [alt\r\n"
     ]
    }
   ],
   "source": [
    "![alt text](pic.png \"Title\")"
   ]
  },
  {
   "cell_type": "code",
   "execution_count": 33,
   "id": "58df6f20",
   "metadata": {},
   "outputs": [
    {
     "ename": "SyntaxError",
     "evalue": "invalid syntax (<ipython-input-33-b457579cf61a>, line 1)",
     "output_type": "error",
     "traceback": [
      "\u001b[0;36m  File \u001b[0;32m\"<ipython-input-33-b457579cf61a>\"\u001b[0;36m, line \u001b[0;32m1\u001b[0m\n\u001b[0;31m    [^1]: according to the questions asked today\u001b[0m\n\u001b[0m     ^\u001b[0m\n\u001b[0;31mSyntaxError\u001b[0m\u001b[0;31m:\u001b[0m invalid syntax\n"
     ]
    }
   ],
   "source": []
  }
 ],
 "metadata": {
  "kernelspec": {
   "display_name": "Python 3",
   "language": "python",
   "name": "python3"
  },
  "language_info": {
   "codemirror_mode": {
    "name": "ipython",
    "version": 3
   },
   "file_extension": ".py",
   "mimetype": "text/x-python",
   "name": "python",
   "nbconvert_exporter": "python",
   "pygments_lexer": "ipython3",
   "version": "3.9.5"
  }
 },
 "nbformat": 4,
 "nbformat_minor": 5
}
