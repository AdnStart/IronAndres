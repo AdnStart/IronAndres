{
 "cells": [
  {
   "cell_type": "markdown",
   "id": "4e98189c",
   "metadata": {},
   "source": [
    "# Basil's perfect holidays place"
   ]
  },
  {
   "cell_type": "markdown",
   "id": "de0fe3c3",
   "metadata": {},
   "source": [
    "This notebook will tell you all about Basil's preferred holidays place"
   ]
  },
  {
   "cell_type": "code",
   "execution_count": 7,
   "id": "6dd072e9",
   "metadata": {},
   "outputs": [
    {
     "name": "stdout",
     "output_type": "stream",
     "text": [
      "What's your name?Basil\n",
      "we'll be looking at Basil 's preferred holiday destination\n"
     ]
    }
   ],
   "source": [
    "def name():\n",
    "    name = input(\"What's your name?\")\n",
    "    return name\n",
    "\n",
    "name = name()\n",
    "\n",
    "print(\"we'll be looking at\", name,\"'s preferred holiday destination\")"
   ]
  },
  {
   "cell_type": "markdown",
   "id": "bc73fd34",
   "metadata": {},
   "source": [
    "![alt text](https://www.markdownguide.org/assets/images/tux.png)"
   ]
  },
  {
   "cell_type": "code",
   "execution_count": 27,
   "id": "3b054077",
   "metadata": {},
   "outputs": [
    {
     "name": "stdout",
     "output_type": "stream",
     "text": [
      "Can you tell us what is your favorite place for holidays?Maledives\n",
      "Basil's preferred place for a holiday is Maledives\n"
     ]
    }
   ],
   "source": [
    "def holidays():\n",
    "    place = input(\"Can you tell us what is your favorite place for holidays?\")\n",
    "    return place\n",
    "\n",
    "place = holidays()\n",
    "\n",
    "print(\"Basil's preferred place for a holiday is\", place) "
   ]
  },
  {
   "cell_type": "markdown",
   "id": "74eb589f",
   "metadata": {},
   "source": [
    "![alt text](pic.png \"Title\")"
   ]
  },
  {
   "cell_type": "markdown",
   "id": "2a08abd5",
   "metadata": {},
   "source": [
    "Top reasons to go there:\n",
    "1. *Sun*\n",
    "2. **Beach**\n",
    "3. Landspaces"
   ]
  },
  {
   "cell_type": "code",
   "execution_count": 36,
   "id": "7c28c8b2",
   "metadata": {},
   "outputs": [
    {
     "ename": "SyntaxError",
     "evalue": "invalid syntax (<ipython-input-36-1ea7ca3d0f2f>, line 1)",
     "output_type": "error",
     "traceback": [
      "\u001b[0;36m  File \u001b[0;32m\"<ipython-input-36-1ea7ca3d0f2f>\"\u001b[0;36m, line \u001b[0;32m1\u001b[0m\n\u001b[0;31m    [![IMAGE ALT TEXT HERE](http://img.youtube.com/vi/mmpBTmpzhHY/0.jpg)](http://www.youtube.com/watch?v=mmpBTmpzhHY)\u001b[0m\n\u001b[0m     ^\u001b[0m\n\u001b[0;31mSyntaxError\u001b[0m\u001b[0;31m:\u001b[0m invalid syntax\n"
     ]
    }
   ],
   "source": [
    "[![IMAGE ALT TEXT HERE](http://img.youtube.com/vi/mmpBTmpzhHY/0.jpg)](http://www.youtube.com/watch?v=mmpBTmpzhHY)"
   ]
  }
 ],
 "metadata": {
  "kernelspec": {
   "display_name": "Python 3",
   "language": "python",
   "name": "python3"
  },
  "language_info": {
   "codemirror_mode": {
    "name": "ipython",
    "version": 3
   },
   "file_extension": ".py",
   "mimetype": "text/x-python",
   "name": "python",
   "nbconvert_exporter": "python",
   "pygments_lexer": "ipython3",
   "version": "3.9.5"
  }
 },
 "nbformat": 4,
 "nbformat_minor": 5
}
