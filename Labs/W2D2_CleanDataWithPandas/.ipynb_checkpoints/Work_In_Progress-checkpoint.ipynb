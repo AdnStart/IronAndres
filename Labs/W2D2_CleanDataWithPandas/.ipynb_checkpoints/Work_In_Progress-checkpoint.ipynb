{
 "cells": [
  {
   "cell_type": "markdown",
   "id": "613e413e",
   "metadata": {},
   "source": [
    "# Customer Analysis Case"
   ]
  },
  {
   "cell_type": "markdown",
   "id": "0392a2d9",
   "metadata": {},
   "source": [
    "## **Libraries:**"
   ]
  },
  {
   "cell_type": "code",
   "execution_count": 11,
   "id": "e6de497a",
   "metadata": {},
   "outputs": [],
   "source": [
    "import numpy as np\n",
    "import pandas as pd\n",
    "import matplotlib.pyplot as plt\n",
    "import seaborn as sns\n",
    "%matplotlib inline "
   ]
  },
  {
   "cell_type": "markdown",
   "id": "7ca1c3a8",
   "metadata": {},
   "source": [
    "## Content notes:"
   ]
  },
  {
   "cell_type": "markdown",
   "id": "6880199e",
   "metadata": {},
   "source": [
    "### Files relative paths:"
   ]
  },
  {
   "cell_type": "code",
   "execution_count": 12,
   "id": "a5f8c186",
   "metadata": {},
   "outputs": [],
   "source": [
    "file1 = \"file1.csv\"\n",
    "file2 = \"file2.csv\"\n",
    "file3 = \"Data_Marketing_Customer_Analysis_Round2.csv\""
   ]
  },
  {
   "cell_type": "markdown",
   "id": "c2922541",
   "metadata": {},
   "source": [
    "### Variables before cleaning:"
   ]
  },
  {
   "cell_type": "markdown",
   "id": "2a2f529d",
   "metadata": {},
   "source": [
    "Column names before change:\\\n",
    "'Customer', 'ST', 'GENDER', 'Education', 'Customer Lifetime Value','Income', 'Monthly Premium Auto', 'Number of Open Complaints','Policy Type', 'Vehicle Class', 'Total Claim Amount'\n",
    "\n",
    "State names before change:\\\n",
    "'Washington', 'Arizona', 'Nevada', 'California', 'Oregon', 'Cali','AZ', 'WA', nan"
   ]
  },
  {
   "cell_type": "code",
   "execution_count": 13,
   "id": "f2fbe543",
   "metadata": {},
   "outputs": [
    {
     "ename": "NameError",
     "evalue": "name 'data' is not defined",
     "output_type": "error",
     "traceback": [
      "\u001b[0;31m---------------------------------------------------------------------------\u001b[0m",
      "\u001b[0;31mNameError\u001b[0m                                 Traceback (most recent call last)",
      "\u001b[0;32m<ipython-input-13-372c1b86ffde>\u001b[0m in \u001b[0;36m<module>\u001b[0;34m\u001b[0m\n\u001b[0;32m----> 1\u001b[0;31m \u001b[0mdata\u001b[0m\u001b[0;34m[\u001b[0m\u001b[0;34m\"state\"\u001b[0m\u001b[0;34m]\u001b[0m\u001b[0;34m.\u001b[0m\u001b[0munique\u001b[0m\u001b[0;34m(\u001b[0m\u001b[0;34m)\u001b[0m\u001b[0;34m\u001b[0m\u001b[0;34m\u001b[0m\u001b[0m\n\u001b[0m",
      "\u001b[0;31mNameError\u001b[0m: name 'data' is not defined"
     ]
    }
   ],
   "source": [
    "data[\"state\"].unique()"
   ]
  },
  {
   "cell_type": "markdown",
   "id": "e42f1fc2",
   "metadata": {},
   "source": [
    "## **Functions:**"
   ]
  },
  {
   "cell_type": "markdown",
   "id": "ac113749",
   "metadata": {},
   "source": [
    "### Get data:"
   ]
  },
  {
   "cell_type": "code",
   "execution_count": 14,
   "id": "147a421f",
   "metadata": {},
   "outputs": [],
   "source": [
    "#### read a file:\n",
    "def get_data_set(file1):             \n",
    "    return pd.read_csv(file1)\n",
    "\n",
    "####combine with dataframe from file2:\n",
    "def concat_data_set2(data): \n",
    "    df2 = pd.read_csv(\"file2.csv\")\n",
    "    return pd.concat([data,df2])"
   ]
  },
  {
   "cell_type": "markdown",
   "id": "dc355083",
   "metadata": {},
   "source": [
    "### Data cleaning:"
   ]
  },
  {
   "cell_type": "code",
   "execution_count": 15,
   "id": "dea20a1b",
   "metadata": {},
   "outputs": [],
   "source": [
    "### removing duplicates:\n",
    "def remove_duplicates(data):\n",
    "    return data.drop_duplicates()\n",
    "\n",
    "### renaming columns\n",
    "def rename_columns(data):\n",
    "    return data.rename(\n",
    "        columns={\"Customer\":\"customer\",\n",
    "        \"ST\":\"state\",\n",
    "        \"GENDER\":\"gender\",\n",
    "        \"Education\":\"education\",\n",
    "        \"Customer Lifetime Value\":\"customer_lifetime_value\",\n",
    "        \"Monthly Premium Auto\":\"monthly_premium_auto\",\n",
    "        \"Income\":\"income\",\n",
    "        \"Number of Open Complaints\":\"number_of_open_complaints\",\n",
    "        \"Policy Type\":\"policy_type\",\n",
    "        \"Vehicle Class\":\"vehicule_class\",\n",
    "        \"Total Claim Amount\":\"total_claim_amount\"\n",
    "                }\n",
    "    )\n",
    "\n",
    "\n",
    "### cleaning up state names\n",
    "def clean_up_states(data):\n",
    "    dict = {\n",
    "        \"Oregon\": \"OR\",\n",
    "        \"California\": \"CA\",\n",
    "        \"Arizona\": \"AZ\",\n",
    "        \"Nevada\": \"NV\",\n",
    "        \"Washington\": \"WA\",\n",
    "        \"Cali\": \"CA\"\n",
    "        }\n",
    "    data.replace({\"State\": dict})\n",
    "    return data\n",
    "  "
   ]
  },
  {
   "cell_type": "markdown",
   "id": "a7c3baba",
   "metadata": {},
   "source": [
    "Test area:"
   ]
  },
  {
   "cell_type": "code",
   "execution_count": 19,
   "id": "3d3401aa",
   "metadata": {},
   "outputs": [
    {
     "data": {
      "text/plain": [
       "Oregon        623\n",
       "California    486\n",
       "Arizona       327\n",
       "Nevada        223\n",
       "Washington    181\n",
       "Cali          120\n",
       "AZ             74\n",
       "WA             30\n",
       "Name: state, dtype: int64"
      ]
     },
     "execution_count": 19,
     "metadata": {},
     "output_type": "execute_result"
    }
   ],
   "source": [
    "data[\"state\"].value_counts()"
   ]
  },
  {
   "cell_type": "code",
   "execution_count": 18,
   "id": "a6ff37eb",
   "metadata": {},
   "outputs": [
    {
     "name": "stdout",
     "output_type": "stream",
     "text": [
      "<class 'pandas.core.frame.DataFrame'>\n",
      "Int64Index: 2065 entries, 0 to 995\n",
      "Data columns (total 11 columns):\n",
      " #   Column                     Non-Null Count  Dtype  \n",
      "---  ------                     --------------  -----  \n",
      " 0   customer                   2064 non-null   object \n",
      " 1   state                      2064 non-null   object \n",
      " 2   gender                     1942 non-null   object \n",
      " 3   education                  2064 non-null   object \n",
      " 4   customer_lifetime_value    2057 non-null   object \n",
      " 5   income                     2064 non-null   float64\n",
      " 6   monthly_premium_auto       2064 non-null   float64\n",
      " 7   number_of_open_complaints  2064 non-null   object \n",
      " 8   policy_type                2064 non-null   object \n",
      " 9   vehicule_class             2064 non-null   object \n",
      " 10  total_claim_amount         2064 non-null   float64\n",
      "dtypes: float64(3), object(8)\n",
      "memory usage: 193.6+ KB\n"
     ]
    }
   ],
   "source": [
    "data.info()"
   ]
  },
  {
   "cell_type": "markdown",
   "id": "20c2638f",
   "metadata": {},
   "source": [
    "## **Pipeline controller:**"
   ]
  },
  {
   "cell_type": "code",
   "execution_count": 17,
   "id": "b380778d",
   "metadata": {},
   "outputs": [
    {
     "data": {
      "text/html": [
       "<div>\n",
       "<style scoped>\n",
       "    .dataframe tbody tr th:only-of-type {\n",
       "        vertical-align: middle;\n",
       "    }\n",
       "\n",
       "    .dataframe tbody tr th {\n",
       "        vertical-align: top;\n",
       "    }\n",
       "\n",
       "    .dataframe thead th {\n",
       "        text-align: right;\n",
       "    }\n",
       "</style>\n",
       "<table border=\"1\" class=\"dataframe\">\n",
       "  <thead>\n",
       "    <tr style=\"text-align: right;\">\n",
       "      <th></th>\n",
       "      <th>customer</th>\n",
       "      <th>state</th>\n",
       "      <th>gender</th>\n",
       "      <th>education</th>\n",
       "      <th>customer_lifetime_value</th>\n",
       "      <th>income</th>\n",
       "      <th>monthly_premium_auto</th>\n",
       "      <th>number_of_open_complaints</th>\n",
       "      <th>policy_type</th>\n",
       "      <th>vehicule_class</th>\n",
       "      <th>total_claim_amount</th>\n",
       "    </tr>\n",
       "  </thead>\n",
       "  <tbody>\n",
       "    <tr>\n",
       "      <th>0</th>\n",
       "      <td>RB50392</td>\n",
       "      <td>Washington</td>\n",
       "      <td>NaN</td>\n",
       "      <td>Master</td>\n",
       "      <td>NaN</td>\n",
       "      <td>0.0</td>\n",
       "      <td>1000.0</td>\n",
       "      <td>1/0/00</td>\n",
       "      <td>Personal Auto</td>\n",
       "      <td>Four-Door Car</td>\n",
       "      <td>2.704934</td>\n",
       "    </tr>\n",
       "    <tr>\n",
       "      <th>1</th>\n",
       "      <td>QZ44356</td>\n",
       "      <td>Arizona</td>\n",
       "      <td>F</td>\n",
       "      <td>Bachelor</td>\n",
       "      <td>697953.59%</td>\n",
       "      <td>0.0</td>\n",
       "      <td>94.0</td>\n",
       "      <td>1/0/00</td>\n",
       "      <td>Personal Auto</td>\n",
       "      <td>Four-Door Car</td>\n",
       "      <td>1131.464935</td>\n",
       "    </tr>\n",
       "    <tr>\n",
       "      <th>2</th>\n",
       "      <td>AI49188</td>\n",
       "      <td>Nevada</td>\n",
       "      <td>F</td>\n",
       "      <td>Bachelor</td>\n",
       "      <td>1288743.17%</td>\n",
       "      <td>48767.0</td>\n",
       "      <td>108.0</td>\n",
       "      <td>1/0/00</td>\n",
       "      <td>Personal Auto</td>\n",
       "      <td>Two-Door Car</td>\n",
       "      <td>566.472247</td>\n",
       "    </tr>\n",
       "    <tr>\n",
       "      <th>3</th>\n",
       "      <td>WW63253</td>\n",
       "      <td>California</td>\n",
       "      <td>M</td>\n",
       "      <td>Bachelor</td>\n",
       "      <td>764586.18%</td>\n",
       "      <td>0.0</td>\n",
       "      <td>106.0</td>\n",
       "      <td>1/0/00</td>\n",
       "      <td>Corporate Auto</td>\n",
       "      <td>SUV</td>\n",
       "      <td>529.881344</td>\n",
       "    </tr>\n",
       "    <tr>\n",
       "      <th>4</th>\n",
       "      <td>GA49547</td>\n",
       "      <td>Washington</td>\n",
       "      <td>M</td>\n",
       "      <td>High School or Below</td>\n",
       "      <td>536307.65%</td>\n",
       "      <td>36357.0</td>\n",
       "      <td>68.0</td>\n",
       "      <td>1/0/00</td>\n",
       "      <td>Personal Auto</td>\n",
       "      <td>Four-Door Car</td>\n",
       "      <td>17.269323</td>\n",
       "    </tr>\n",
       "    <tr>\n",
       "      <th>...</th>\n",
       "      <td>...</td>\n",
       "      <td>...</td>\n",
       "      <td>...</td>\n",
       "      <td>...</td>\n",
       "      <td>...</td>\n",
       "      <td>...</td>\n",
       "      <td>...</td>\n",
       "      <td>...</td>\n",
       "      <td>...</td>\n",
       "      <td>...</td>\n",
       "      <td>...</td>\n",
       "    </tr>\n",
       "    <tr>\n",
       "      <th>991</th>\n",
       "      <td>HV85198</td>\n",
       "      <td>Arizona</td>\n",
       "      <td>M</td>\n",
       "      <td>Master</td>\n",
       "      <td>847141.75%</td>\n",
       "      <td>63513.0</td>\n",
       "      <td>70.0</td>\n",
       "      <td>1/0/00</td>\n",
       "      <td>Personal Auto</td>\n",
       "      <td>Four-Door Car</td>\n",
       "      <td>185.667213</td>\n",
       "    </tr>\n",
       "    <tr>\n",
       "      <th>992</th>\n",
       "      <td>BS91566</td>\n",
       "      <td>Arizona</td>\n",
       "      <td>F</td>\n",
       "      <td>College</td>\n",
       "      <td>543121.91%</td>\n",
       "      <td>58161.0</td>\n",
       "      <td>68.0</td>\n",
       "      <td>1/0/00</td>\n",
       "      <td>Corporate Auto</td>\n",
       "      <td>Four-Door Car</td>\n",
       "      <td>140.747286</td>\n",
       "    </tr>\n",
       "    <tr>\n",
       "      <th>993</th>\n",
       "      <td>IL40123</td>\n",
       "      <td>Nevada</td>\n",
       "      <td>F</td>\n",
       "      <td>College</td>\n",
       "      <td>568964.41%</td>\n",
       "      <td>83640.0</td>\n",
       "      <td>70.0</td>\n",
       "      <td>1/0/00</td>\n",
       "      <td>Corporate Auto</td>\n",
       "      <td>Two-Door Car</td>\n",
       "      <td>471.050488</td>\n",
       "    </tr>\n",
       "    <tr>\n",
       "      <th>994</th>\n",
       "      <td>MY32149</td>\n",
       "      <td>California</td>\n",
       "      <td>F</td>\n",
       "      <td>Master</td>\n",
       "      <td>368672.38%</td>\n",
       "      <td>0.0</td>\n",
       "      <td>96.0</td>\n",
       "      <td>1/0/00</td>\n",
       "      <td>Personal Auto</td>\n",
       "      <td>Two-Door Car</td>\n",
       "      <td>28.460568</td>\n",
       "    </tr>\n",
       "    <tr>\n",
       "      <th>995</th>\n",
       "      <td>SA91515</td>\n",
       "      <td>California</td>\n",
       "      <td>M</td>\n",
       "      <td>Bachelor</td>\n",
       "      <td>399258.39%</td>\n",
       "      <td>0.0</td>\n",
       "      <td>111.0</td>\n",
       "      <td>1/0/00</td>\n",
       "      <td>Personal Auto</td>\n",
       "      <td>SUV</td>\n",
       "      <td>700.349052</td>\n",
       "    </tr>\n",
       "  </tbody>\n",
       "</table>\n",
       "<p>2065 rows × 11 columns</p>\n",
       "</div>"
      ],
      "text/plain": [
       "    customer       state gender             education customer_lifetime_value  \\\n",
       "0    RB50392  Washington    NaN                Master                     NaN   \n",
       "1    QZ44356     Arizona      F              Bachelor              697953.59%   \n",
       "2    AI49188      Nevada      F              Bachelor             1288743.17%   \n",
       "3    WW63253  California      M              Bachelor              764586.18%   \n",
       "4    GA49547  Washington      M  High School or Below              536307.65%   \n",
       "..       ...         ...    ...                   ...                     ...   \n",
       "991  HV85198     Arizona      M                Master              847141.75%   \n",
       "992  BS91566     Arizona      F               College              543121.91%   \n",
       "993  IL40123      Nevada      F               College              568964.41%   \n",
       "994  MY32149  California      F                Master              368672.38%   \n",
       "995  SA91515  California      M              Bachelor              399258.39%   \n",
       "\n",
       "      income  monthly_premium_auto number_of_open_complaints     policy_type  \\\n",
       "0        0.0                1000.0                    1/0/00   Personal Auto   \n",
       "1        0.0                  94.0                    1/0/00   Personal Auto   \n",
       "2    48767.0                 108.0                    1/0/00   Personal Auto   \n",
       "3        0.0                 106.0                    1/0/00  Corporate Auto   \n",
       "4    36357.0                  68.0                    1/0/00   Personal Auto   \n",
       "..       ...                   ...                       ...             ...   \n",
       "991  63513.0                  70.0                    1/0/00   Personal Auto   \n",
       "992  58161.0                  68.0                    1/0/00  Corporate Auto   \n",
       "993  83640.0                  70.0                    1/0/00  Corporate Auto   \n",
       "994      0.0                  96.0                    1/0/00   Personal Auto   \n",
       "995      0.0                 111.0                    1/0/00   Personal Auto   \n",
       "\n",
       "    vehicule_class  total_claim_amount  \n",
       "0    Four-Door Car            2.704934  \n",
       "1    Four-Door Car         1131.464935  \n",
       "2     Two-Door Car          566.472247  \n",
       "3              SUV          529.881344  \n",
       "4    Four-Door Car           17.269323  \n",
       "..             ...                 ...  \n",
       "991  Four-Door Car          185.667213  \n",
       "992  Four-Door Car          140.747286  \n",
       "993   Two-Door Car          471.050488  \n",
       "994   Two-Door Car           28.460568  \n",
       "995            SUV          700.349052  \n",
       "\n",
       "[2065 rows x 11 columns]"
      ]
     },
     "execution_count": 17,
     "metadata": {},
     "output_type": "execute_result"
    }
   ],
   "source": [
    "data = (\n",
    "    get_data_set(file1)    #### getting data from file1\n",
    ".pipe(concat_data_set2)     #### appending data from dataset2\n",
    ".pipe(remove_duplicates)    #### removing duplicates\n",
    ".pipe(rename_columns)       #### renaming columns\n",
    ".pipe(clean_up_states)     #### normalizing state names\n",
    "\n",
    ")\n",
    "data"
   ]
  },
  {
   "cell_type": "code",
   "execution_count": null,
   "id": "ad22c97e",
   "metadata": {},
   "outputs": [],
   "source": []
  }
 ],
 "metadata": {
  "kernelspec": {
   "display_name": "Python 3",
   "language": "python",
   "name": "python3"
  },
  "language_info": {
   "codemirror_mode": {
    "name": "ipython",
    "version": 3
   },
   "file_extension": ".py",
   "mimetype": "text/x-python",
   "name": "python",
   "nbconvert_exporter": "python",
   "pygments_lexer": "ipython3",
   "version": "3.8.8"
  }
 },
 "nbformat": 4,
 "nbformat_minor": 5
}
