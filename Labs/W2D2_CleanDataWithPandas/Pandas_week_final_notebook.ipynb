{
 "cells": [
  {
   "cell_type": "markdown",
   "id": "613e413e",
   "metadata": {},
   "source": [
    "# Customer Analysis Case"
   ]
  },
  {
   "cell_type": "markdown",
   "id": "0392a2d9",
   "metadata": {},
   "source": [
    "## **Libraries:**"
   ]
  },
  {
   "cell_type": "code",
   "execution_count": 161,
   "id": "e6de497a",
   "metadata": {},
   "outputs": [],
   "source": [
    "import numpy as np\n",
    "import pandas as pd\n",
    "import matplotlib.pyplot as plt\n",
    "import seaborn as sns\n",
    "%matplotlib inline "
   ]
  },
  {
   "cell_type": "markdown",
   "id": "7ca1c3a8",
   "metadata": {},
   "source": [
    "## Content notes:"
   ]
  },
  {
   "cell_type": "markdown",
   "id": "6880199e",
   "metadata": {},
   "source": [
    "### Files relative paths:"
   ]
  },
  {
   "cell_type": "code",
   "execution_count": 162,
   "id": "a5f8c186",
   "metadata": {},
   "outputs": [],
   "source": [
    "file1 = \"file1.csv\"\n",
    "file2 = \"file2.csv\"\n",
    "file3 = \"Data_Marketing_Customer_Analysis_Round2.csv\""
   ]
  },
  {
   "cell_type": "markdown",
   "id": "c2922541",
   "metadata": {},
   "source": [
    "### Changes record"
   ]
  },
  {
   "cell_type": "markdown",
   "id": "2a2f529d",
   "metadata": {},
   "source": [
    "**Data set construction:**\n",
    "- File1: 4008 rows, 11 columns\n",
    "- File2: 996 rows, 11 columns\n",
    "- data set (file1+file2): 5004 rows, 11 columns (4008+996=5004)\n",
    "- data after removal from duplicates: 2065 rows, 11 columns\n",
    "\n",
    "**Column names standardization:**\n",
    "\n",
    "Column names before change:\n",
    "- 'Customer', 'ST', 'GENDER', 'Education', 'Customer Lifetime Value','Income', 'Monthly Premium Auto', 'Number of Open Complaints','Policy Type', 'Vehicle Class', 'Total Claim Amount'\n",
    "- Number of columns before names change: 11\n",
    "\n",
    "Column names after change:\n",
    "- customer', 'state', 'gender', 'education', 'customer_lifetime_value', 'income', 'monthly_premium_auto', 'number_of_open_complaints','policy_type', 'vehicule_class', 'total_claim_amount'\n",
    "- Number of columns after names change: 11\n",
    "\n",
    "\n",
    "**State column, names standardization:**\n",
    "\n",
    "State names before change:\n",
    "- Washington', 'Arizona', 'Nevada', 'California', 'Oregon', 'Cali','AZ', 'WA', nan\n",
    "- Rows count: 2065\n",
    "\n",
    "State names after change:\n",
    "- 'WA', 'AZ', 'NV', 'CA', 'OR', nan\n",
    "- Rows count: 2065\n",
    "\n",
    "**Removing all rows which have only NaN values:**\n",
    "- rows count before removal: 2065\n",
    "- rows count after removal: 2064\n",
    "\n",
    "\n",
    "**Gender column, names standardization:**\n",
    "\n",
    "Gender values before change:\n",
    "- 'F', 'M', 'Femal', 'Male', 'female', nan\n",
    "- Rows count: 2064\n",
    "\n",
    "Gender after change:\n",
    "- 'F', 'M', nan\n",
    "- Rows count: 2064\n",
    "\n",
    "\n",
    "**Gender column, names standardization:**\n",
    "\n",
    "Values before change:\n",
    "- 'Master', 'Bachelor', 'High School or Below', 'College', 'Bachelors', 'Doctor'\n",
    "- Rows count: 2064\n",
    "\n",
    "Values after change:\n",
    "- 'Master', 'Bachelor', 'High School or Below', 'College', 'Doctor'\n",
    "- Rows count: 2064\n",
    "\n",
    "**number_of_open_complaints column unique values**\n",
    "- before replacement of the column:\\\n",
    "Value     Count\\\n",
    "1/0/00    1623\\\n",
    "1/1/00     247\\\n",
    "1/2/00      93\\\n",
    "1/3/00      60\\\n",
    "1/4/00      29\\\n",
    "1/5/00      12\n",
    "\n",
    "- after replacement of the column:\\\n",
    "Value  Count\\\n",
    "0      1623\\\n",
    "1      247\\\n",
    "2      93\\\n",
    "3      60\\\n",
    "4      29\\\n",
    "5      12\n"
   ]
  },
  {
   "cell_type": "markdown",
   "id": "e42f1fc2",
   "metadata": {},
   "source": [
    "## **Functions:**"
   ]
  },
  {
   "cell_type": "markdown",
   "id": "ac113749",
   "metadata": {},
   "source": [
    "### Get data:"
   ]
  },
  {
   "cell_type": "code",
   "execution_count": 304,
   "id": "147a421f",
   "metadata": {},
   "outputs": [],
   "source": [
    "#### read a file:\n",
    "def get_data_set(file1):             \n",
    "    return pd.read_csv(file1)\n",
    "\n",
    "#### combine with dataframe from file2:\n",
    "def concat_data_set2(data): \n",
    "    df2 = pd.read_csv(\"file2.csv\")\n",
    "    return pd.concat([data,df2])\n",
    "\n",
    "    \n",
    "\n",
    "#### merging (outer join) with file3\n",
    "def merge_for_time_values(data):\n",
    "    df3 = pd.read_csv(\"Data_Marketing_Customer_Analysis_Round2.csv\")\n",
    "    df3.rename(\n",
    "        columns={\n",
    "        \"Customer\":\"customer\",\n",
    "        \"Response\":\"response\",\n",
    "        \"Coverage\":\"coverage\",\n",
    "        \"Effective To Date\":\"effective_to_date\",\n",
    "        \"EmploymentStatus\":\"employment_status\",\n",
    "        \"Number of Policies\":\"number_of_policies\",\n",
    "        \"Policy\":\"policy\",\n",
    "        \"Renew Offer Type\":\"renew_offer_type\",\n",
    "        \"Sales Channel\":\"sales_channel\",\n",
    "        \"Vehicle Size\":\"vehicle_size\",\n",
    "        \"State\": \"state\",\n",
    "        \"Customer Lifetime Value\": \"customer_lifetime_value\",\n",
    "        \"Education\": \"education\",\n",
    "        \"Gender\": \"gender\",\n",
    "        \"Income\": \"income\",\n",
    "        \"Location Code\": \"location_code\",\n",
    "        \"Marital Status\": \"marital_status\",\n",
    "        \"Monthly Premium Auto\": \"monthly_premium_auto\",\n",
    "        \"Months Since Last Claim\": \"months_since_last_claim\",\n",
    "        \"Months Since Policy Inception\": \"months_since_last_policy_inception\",\n",
    "        \"Number of Open Complaints\": \"number_of_open_complaints\",\n",
    "        \"Policy Type\": \"policy_type\",\n",
    "        \"Total Claim Amount\": \"total_claim_amount\",\n",
    "        \"Vehicle Class\": \"vehicule_class\",\n",
    "        \"Vehicle Type\": \"vehicule_type\"\n",
    "        }, inplace=True\n",
    "    )\n",
    "    data = pd.merge(data,df3, on=(\n",
    "        [\"customer\",\n",
    "        \"state\",\n",
    "        \"gender\",\n",
    "        \"education\",\n",
    "        \"customer_lifetime_value\",\n",
    "        \"income\",\n",
    "        \"monthly_premium_auto\",\n",
    "        \"number_of_open_complaints\",\n",
    "        \"policy_type\",\n",
    "        \"vehicule_class\",\n",
    "        \"total_claim_amount\",\n",
    "        ]\n",
    "    ),\n",
    "                    how=\"outer\", indicator=True)\n",
    "    return data"
   ]
  },
  {
   "cell_type": "markdown",
   "id": "dc355083",
   "metadata": {},
   "source": [
    "### Data cleaning:"
   ]
  },
  {
   "cell_type": "code",
   "execution_count": 311,
   "id": "dea20a1b",
   "metadata": {},
   "outputs": [],
   "source": [
    "### removing duplicates:\n",
    "def remove_duplicates(data):\n",
    "    return data.drop_duplicates(subset=[\"\"])\n",
    "\n",
    "### renaming columns\n",
    "def rename_columns(data):\n",
    "    return data.rename(\n",
    "        columns={\"Customer\":\"customer\",\n",
    "        \"ST\":\"state\",\n",
    "        \"GENDER\":\"gender\",\n",
    "        \"Education\":\"education\",\n",
    "        \"Customer Lifetime Value\":\"customer_lifetime_value\",\n",
    "        \"Monthly Premium Auto\":\"monthly_premium_auto\",\n",
    "        \"Income\":\"income\",\n",
    "        \"Number of Open Complaints\":\"number_of_open_complaints\",\n",
    "        \"Policy Type\":\"policy_type\",\n",
    "        \"Vehicle Class\":\"vehicule_class\",\n",
    "        \"Total Claim Amount\":\"total_claim_amount\"\n",
    "                }\n",
    "    )\n",
    "\n",
    "\n",
    "### cleaning up state names\n",
    "def clean_up_states(data):\n",
    "    dict = {\n",
    "        \"Oregon\": \"OR\",\n",
    "        \"California\": \"CA\",\n",
    "        \"Arizona\": \"AZ\",\n",
    "        \"Nevada\": \"NV\",\n",
    "        \"Washington\": \"WA\",\n",
    "        \"Cali\": \"CA\"\n",
    "        }\n",
    "    return data.replace({\"state\": dict})\n",
    "\n",
    "\n",
    "### droping all rows which have only Nan values\n",
    "def drop_full_nan(data):\n",
    "    return data.dropna(axis=0, how=\"all\")\n",
    "\n",
    "### stardardizing gender column\n",
    "def standardize_gender_values(data):\n",
    "    dict = {\n",
    "        \"Male\": \"M\",\n",
    "        \"female\": \"F\",\n",
    "        \"Femal\": \"F\",\n",
    "        }\n",
    "    return data.replace({\"gender\": dict})\n",
    "\n",
    "\n",
    "### stardardizing education column\n",
    "def standardize_education_values(data):\n",
    "    dict = {\n",
    "        \"Bachelors\": \"Bachelor\",\n",
    "        }\n",
    "    return data.replace({\"education\": dict})\n",
    "\n",
    "\n",
    "### removing % character from the customer_lifetime_value_column\n",
    "def remove_percent(data):\n",
    "    data[\"customer_lifetime_value\"] = data[\"customer_lifetime_value\"].str.replace(\"%\",\"\")\n",
    "    return data\n",
    "\n",
    "### setting the customer_lifetime_value column to numeric type\n",
    "def set_cslifetimevalue_to_numeric(data):\n",
    "    data[\"customer_lifetime_value\"] = pd.to_numeric(data[\"customer_lifetime_value\"], errors = \"coerce\")\n",
    "    return data\n",
    "\n",
    "### replacing the number_of_open_complaints columns with a new column with the correct values\n",
    "def number_of_open_complaints_cleanup(data):\n",
    "    data[\"number_of_open_complaints\"] = data[\"number_of_open_complaints\"].str[2]\n",
    "    return data\n",
    "\n",
    "\n",
    "### setting the number_of_open_complaints column to numeric type\n",
    "def set_nbofopencomplaints_to_numeric(data):\n",
    "    data[\"number_of_open_complaints\"] = pd.to_numeric(data[\"number_of_open_complaints\"], errors = \"coerce\")\n",
    "    return data\n",
    "\n",
    "\n",
    "### rounding-up total_claim_amount_column\n",
    "def roundup_total_claim_amount(data):\n",
    "    data[\"total_claim_amount\"] = data[\"total_claim_amount\"].round(decimals=2)\n",
    "    return data\n",
    "\n",
    "### replacing NaN values of gender column with \"missing\" and by the mean for customer_lifetime_value\n",
    "def replace_nan_values(data):\n",
    "    data[\"gender\"] = data[\"gender\"].fillna(\"missing\")\n",
    "    data[\"customer_lifetime_value\"] = data[\"customer_lifetime_value\"].fillna(data[\"customer_lifetime_value\"].mean()).round(decimals=2)\n",
    "    return data\n",
    "\n",
    "\n",
    "### bucketing states per region\n",
    "def states_buckets(data):\n",
    "    dict = {\n",
    "        \"CA\": \"West Region\",\n",
    "        \"OR\": \"North West\",\n",
    "        \"WA\": \"East\",\n",
    "        \"AZ\": \"Central\",\n",
    "        \"NV\":  \"Central\",\n",
    "        }\n",
    "    data.insert(2,\"region\",data[\"state\"])\n",
    "    data.replace({\"region\": dict}, inplace=True)\n",
    "    return data\n",
    "\n",
    "\n",
    "### setting effective_to_date column to datetime type\n",
    "def set_time_column_to_datetime(data):\n",
    "    data[\"effective_to_date\"] = pd.to_datetime(data[\"effective_to_date\"])\n",
    "    return data\n",
    "\n",
    "\n",
    "### extracting month from the effective_tot_date column into a new column names \"month\"\n",
    "def extract_month(data):\n",
    "    data.insert(16, \"month\", pd.DatetimeIndex(data['effective_to_date']).month)\n",
    "    return data"
   ]
  },
  {
   "cell_type": "markdown",
   "id": "a7c3baba",
   "metadata": {},
   "source": [
    "### Data set description:"
   ]
  },
  {
   "cell_type": "code",
   "execution_count": 344,
   "id": "a6ff37eb",
   "metadata": {
    "scrolled": true
   },
   "outputs": [
    {
     "name": "stdout",
     "output_type": "stream",
     "text": [
      "<class 'pandas.core.frame.DataFrame'>\n",
      "Int64Index: 12974 entries, 0 to 12973\n",
      "Data columns (total 29 columns):\n",
      " #   Column                              Non-Null Count  Dtype         \n",
      "---  ------                              --------------  -----         \n",
      " 0   customer                            12974 non-null  object        \n",
      " 1   state                               12343 non-null  object        \n",
      " 2   region                              2064 non-null   object        \n",
      " 3   gender                              12974 non-null  object        \n",
      " 4   education                           12974 non-null  object        \n",
      " 5   customer_lifetime_value             12974 non-null  float64       \n",
      " 6   income                              12974 non-null  float64       \n",
      " 7   monthly_premium_auto                12974 non-null  float64       \n",
      " 8   number_of_open_complaints           12341 non-null  float64       \n",
      " 9   policy_type                         12974 non-null  object        \n",
      " 10  vehicule_class                      12352 non-null  object        \n",
      " 11  total_claim_amount                  12974 non-null  float64       \n",
      " 12  Unnamed: 0                          10910 non-null  float64       \n",
      " 13  response                            10279 non-null  object        \n",
      " 14  coverage                            10910 non-null  object        \n",
      " 15  effective_to_date                   10910 non-null  datetime64[ns]\n",
      " 16  month                               10910 non-null  float64       \n",
      " 17  employment_status                   10910 non-null  object        \n",
      " 18  location_code                       10910 non-null  object        \n",
      " 19  marital_status                      10910 non-null  object        \n",
      " 20  months_since_last_claim             10277 non-null  float64       \n",
      " 21  months_since_last_policy_inception  10910 non-null  float64       \n",
      " 22  number_of_policies                  10910 non-null  float64       \n",
      " 23  policy                              10910 non-null  object        \n",
      " 24  renew_offer_type                    10910 non-null  object        \n",
      " 25  sales_channel                       10910 non-null  object        \n",
      " 26  vehicle_size                        10288 non-null  object        \n",
      " 27  vehicule_type                       5428 non-null   object        \n",
      " 28  _merge                              12974 non-null  category      \n",
      "dtypes: category(1), datetime64[ns](1), float64(10), object(17)\n",
      "memory usage: 2.9+ MB\n"
     ]
    }
   ],
   "source": [
    "data.info()"
   ]
  },
  {
   "cell_type": "markdown",
   "id": "20c2638f",
   "metadata": {},
   "source": [
    "## **Pipeline controller:**"
   ]
  },
  {
   "cell_type": "code",
   "execution_count": 343,
   "id": "b380778d",
   "metadata": {
    "scrolled": true
   },
   "outputs": [],
   "source": [
    "data = (\n",
    "    get_data_set(file1)                   #### getting data from file1\n",
    ".pipe(concat_data_set2)                   #### appending data from dataset2\n",
    ".pipe(remove_duplicates)                  #### removing duplicates\n",
    ".pipe(rename_columns)                     #### renaming columns\n",
    ".pipe(clean_up_states)                    #### normalizing state names\n",
    ".pipe(drop_full_nan)                      #### droping all columns which have only NaN values\n",
    ".pipe(standardize_gender_values)          #### standardizing gender column values\n",
    ".pipe(standardize_education_values)       #### standardizing education column values\n",
    ".pipe(remove_percent)                     #### removing the % from the customer_lifetime_value column\n",
    ".pipe(set_cslifetimevalue_to_numeric)     #### setting customer_lifatime_value column to numeric\n",
    ".pipe(number_of_open_complaints_cleanup)  #### cleaning-up number_of_open_complaints column\n",
    ".pipe(set_nbofopencomplaints_to_numeric)  #### setting number_of_open_complaints column to numeric\n",
    ".pipe(roundup_total_claim_amount)         #### rounding-up values in the total_claim_amount column\n",
    ".pipe(replace_nan_values)                 #### replacing NaN values\n",
    ".pipe(states_buckets)                     #### buceking states per region\n",
    ".pipe(merge_for_time_values)              #### outer join to merge with new data set (file3) with time values\n",
    ".pipe(remove_duplicates)                  #### removing duplicates after merge\n",
    ".pipe(set_time_column_to_datetime)        #### setting column effective_to_date to datetime\n",
    ".pipe(extract_month)                      #### extracting month from the effective_tot_date column into a new column names \"month\"\n",
    ")"
   ]
  },
  {
   "cell_type": "markdown",
   "id": "287e7573",
   "metadata": {},
   "source": [
    "## Total number of responses"
   ]
  },
  {
   "cell_type": "code",
   "execution_count": 347,
   "id": "bbb4740c",
   "metadata": {
    "scrolled": true
   },
   "outputs": [
    {
     "data": {
      "text/plain": [
       "<AxesSubplot:title={'center':'Number of responses'}, ylabel='response'>"
      ]
     },
     "execution_count": 347,
     "metadata": {},
     "output_type": "execute_result"
    },
    {
     "data": {
      "image/png": "[encoded data removed]",
      "text/plain": [
       "<Figure size 432x288 with 1 Axes>"
      ]
     },
     "metadata": {
      "needs_background": "light"
     },
     "output_type": "display_data"
    }
   ],
   "source": [
    "plot = data[\"response\"].value_counts()\n",
    "fig1, ax1 = plt.subplots()\n",
    "ax1.set_title(\"Number of responses\")\n",
    "sns.barplot(x=plot.index, y=plot)"
   ]
  },
  {
   "cell_type": "markdown",
   "id": "f329d457",
   "metadata": {},
   "source": [
    "## Number of responses by sales channel"
   ]
  },
  {
   "cell_type": "code",
   "execution_count": 361,
   "id": "1c8c169c",
   "metadata": {},
   "outputs": [
    {
     "data": {
      "text/plain": [
       "<AxesSubplot:title={'center':'Number of responses by sales channel'}, xlabel='sales_channel', ylabel='customer'>"
      ]
     },
     "execution_count": 361,
     "metadata": {},
     "output_type": "execute_result"
    },
    {
     "data": {
      "image/png": "[encoded data removed]",
      "text/plain": [
       "<Figure size 432x288 with 1 Axes>"
      ]
     },
     "metadata": {
      "needs_background": "light"
     },
     "output_type": "display_data"
    }
   ],
   "source": [
    "plot2 = data.groupby([\"sales_channel\",\"response\"])[\"customer\"].count().reset_index()\n",
    "plot2\n",
    "\n",
    "fig2, ax2 = plt.subplots()\n",
    "ax2.set_title(\"Number of responses by sales channel\")\n",
    "sns.barplot(x=plot2[\"sales_channel\"], y=plot2[\"customer\"], hue=plot2[\"response\"])"
   ]
  }
 ],
 "metadata": {
  "kernelspec": {
   "display_name": "Python 3",
   "language": "python",
   "name": "python3"
  },
  "language_info": {
   "codemirror_mode": {
    "name": "ipython",
    "version": 3
   },
   "file_extension": ".py",
   "mimetype": "text/x-python",
   "name": "python",
   "nbconvert_exporter": "python",
   "pygments_lexer": "ipython3",
   "version": "3.8.8"
  }
 },
 "nbformat": 4,
 "nbformat_minor": 5
}
