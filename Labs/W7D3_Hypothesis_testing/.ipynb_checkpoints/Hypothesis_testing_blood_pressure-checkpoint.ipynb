{
 "cells": [
  {
   "cell_type": "code",
   "execution_count": 21,
   "id": "6878ab25",
   "metadata": {},
   "outputs": [],
   "source": [
    "#libraries\n",
    "import math\n",
    "import numpy as np\n",
    "from scipy.stats import norm as scipy\n"
   ]
  },
  {
   "cell_type": "code",
   "execution_count": 11,
   "id": "ea45996b",
   "metadata": {},
   "outputs": [],
   "source": [
    "#data\n",
    "pop_mean = 120\n",
    "sample_size = 100\n",
    "sample_mean = 130.1\n",
    "sample_std = 21.21"
   ]
  },
  {
   "cell_type": "code",
   "execution_count": 18,
   "id": "f2ec95e8",
   "metadata": {},
   "outputs": [
    {
     "data": {
      "text/plain": [
       "21.2100212100212"
      ]
     },
     "execution_count": 18,
     "metadata": {},
     "output_type": "execute_result"
    }
   ],
   "source": [
    "#Null Hypothesis: the sample_mean is above the population's blood pressure\n",
    "\n",
    "\n",
    "#calculating pop_std, knowing Z = 4.76190\n",
    "pop_std = ((sample_mean-pop_mean)*math.sqrt(sample_size))/4.76190\n",
    "pop_std"
   ]
  },
  {
   "cell_type": "code",
   "execution_count": 19,
   "id": "7c9620a2",
   "metadata": {},
   "outputs": [
    {
     "data": {
      "text/plain": [
       "4.761899999999999"
      ]
     },
     "execution_count": 19,
     "metadata": {},
     "output_type": "execute_result"
    }
   ],
   "source": [
    "#calculatin Z-test\n",
    "Z = (sample_mean-pop_mean)/(pop_std/math.sqrt(sample_size))\n",
    "Z"
   ]
  },
  {
   "cell_type": "code",
   "execution_count": 25,
   "id": "0b99fb44",
   "metadata": {},
   "outputs": [
    {
     "name": "stdout",
     "output_type": "stream",
     "text": [
      "1.6448536269514722\n"
     ]
    }
   ],
   "source": [
    "# Gaussian Percent Point Function\n",
    "# define probability\n",
    "p = 0.95\n",
    "# retrieve value <= probability\n",
    "value = norm.ppf(p)\n",
    "print(value)\n",
    "# confirm with cdf\n",
    "p = norm.cdf(value)"
   ]
  },
  {
   "cell_type": "code",
   "execution_count": null,
   "id": "85612427",
   "metadata": {},
   "outputs": [],
   "source": [
    "#Z is greater than p, so the null hypothesis is true."
   ]
  }
 ],
 "metadata": {
  "kernelspec": {
   "display_name": "Python 3",
   "language": "python",
   "name": "python3"
  },
  "language_info": {
   "codemirror_mode": {
    "name": "ipython",
    "version": 3
   },
   "file_extension": ".py",
   "mimetype": "text/x-python",
   "name": "python",
   "nbconvert_exporter": "python",
   "pygments_lexer": "ipython3",
   "version": "3.8.8"
  }
 },
 "nbformat": 4,
 "nbformat_minor": 5
}
