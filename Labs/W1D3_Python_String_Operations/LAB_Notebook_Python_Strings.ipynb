{
 "cells": [
  {
   "cell_type": "markdown",
   "metadata": {},
   "source": [
    "# Lab -Python Strings Operations"
   ]
  },
  {
   "cell_type": "markdown",
   "metadata": {},
   "source": [
    "# Challenge 1 - Combining Strings\n",
    "\n",
    "Combining strings is an important skill to acquire. There are multiple ways of combining strings in Python, as well as combining strings with variables. We will explore this in the first challenge. In the cell below, combine the strings in the list and add spaces between the strings (do not add a space after the last string). Insert a period after the last string."
   ]
  },
  {
   "cell_type": "code",
   "execution_count": 61,
   "metadata": {},
   "outputs": [
    {
     "name": "stdout",
     "output_type": "stream",
     "text": [
      "list_combined:  I am strengthening my programming skills in order to become a great Data Analyst.\n",
      "full_string : I am strengthening my programming skills in order to become a great Data Analyst.\n"
     ]
    }
   ],
   "source": [
    "str_list = ['I', 'am', 'strengthening', 'my', 'programming', 'skills', 'in', 'order', 'to', 'become', 'a', 'great', 'Data','Analyst']\n",
    "# Your code here:\n",
    "\n",
    "list_combined = str_list[0]\n",
    "\n",
    "for i in range(1, len(str_list)):\n",
    "    list_combined = list_combined+\" \"+str_list[i]\n",
    "\n",
    "list_combined = list_combined+\".\"\n",
    "    \n",
    "print(\"list_combined: \", list_combined)\n",
    "\n",
    "\n",
    "full_string = \" \".join(str_list)\n",
    "full_string = full_string+\".\"\n",
    "\n",
    "print(\"full_string :\", full_string)\n",
    "    "
   ]
  },
  {
   "cell_type": "markdown",
   "metadata": {},
   "source": [
    "In the cell below, use the list of strings to create a grocery list. Start the list with the string `Grocery list: ` and include a comma and a space between each item except for the last one. Include a period at the end. Only include foods in the list that start with the letter 'b' and ensure all foods are lower case."
   ]
  },
  {
   "cell_type": "code",
   "execution_count": 62,
   "metadata": {},
   "outputs": [
    {
     "name": "stdout",
     "output_type": "stream",
     "text": [
      "Grocery list: Bananas, bread, Brownie Mix, broccoli.\n"
     ]
    }
   ],
   "source": [
    "food_list = ['Bananas', 'Chocolate', 'bread', 'diapers', 'Ice Cream', 'Brownie Mix', 'broccoli']\n",
    "# Your code here:\n",
    "\n",
    "grocery_list = \"Grocery list: \"\n",
    "\n",
    "for word in food_list:\n",
    "    if word[0].lower() == \"b\":\n",
    "        grocery_list = grocery_list+word+\", \"\n",
    "        \n",
    "grocery_list = grocery_list[:-2]\n",
    "grocery_list = grocery_list+\".\"\n",
    "                \n",
    "print(grocery_list)\n",
    "        "
   ]
  },
  {
   "cell_type": "markdown",
   "metadata": {},
   "source": [
    "In the cell below, compute the area of a circle using its radius and insert the radius and the area between `string1` and `string2`. Make sure to include spaces between the variable and the strings. \n",
    "\n",
    "Note: You can use the techniques we have learned so far or use f-strings. F-strings allow us to embed code inside strings. You can read more about f-strings [here](https://www.python.org/dev/peps/pep-0498/)."
   ]
  },
  {
   "cell_type": "code",
   "execution_count": 63,
   "metadata": {},
   "outputs": [
    {
     "name": "stdout",
     "output_type": "stream",
     "text": [
      "area2: The area of the circle with radius 4.5 is: 63.61725123519331\n"
     ]
    },
    {
     "data": {
      "text/plain": [
       "'The area of the circle with radius:4.5 is 63.61725123519331'"
      ]
     },
     "execution_count": 63,
     "metadata": {},
     "output_type": "execute_result"
    }
   ],
   "source": [
    "import math\n",
    "\n",
    "string1 = \"The area of the circle with radius:\"\n",
    "string2  = \"is:\"\n",
    "radius = 4.5\n",
    "pi = math.pi\n",
    "area = pi*radius**2\n",
    "\n",
    "\n",
    "\n",
    "area_build = pi*radius**2\n",
    "\n",
    "\n",
    "# Your code here:\n",
    "\n",
    "area2 = string1[:-1]+\" \"+str(radius)+\" \"+string2+\" \"+str(pi*radius**2)\n",
    "print(\"area2:\", area2)\n",
    "\n",
    "# Rafaat's solution\n",
    "\n",
    "f'{string1}{radius} is {area}'\n",
    "\n"
   ]
  },
  {
   "cell_type": "markdown",
   "metadata": {},
   "source": [
    "# Challenge 2 - Splitting Strings\n",
    "\n",
    "We have first looked at combining strings into one long string. There are times where we need to do the opposite and split the string into smaller components for further analysis. \n",
    "\n",
    "In the cell below, split the string into a list of strings using the space delimiter. Count the frequency of each word in the string in a dictionary. Strip the periods, line breaks and commas from the text. Make sure to remove empty strings from your dictionary."
   ]
  },
  {
   "cell_type": "code",
   "execution_count": 60,
   "metadata": {},
   "outputs": [
    {
     "name": "stdout",
     "output_type": "stream",
     "text": [
      "poem_dict {'would': 1, 'end': 1, 'destruction': 1, 'is': 1, 'for': 1, 'i': 3, 'fire': 2, 'and': 1, 'from': 1, 'world': 1, 'ice': 2, 'perish': 1, 'those': 1, 'twice': 1, 'favor': 1, 'but': 1, 'who': 1, 'desire': 1, 'also': 1, 'in': 2, 'tasted': 1, 'say': 3, 'of': 2, 'if': 1, 'the': 1, 'some': 2, 'enough': 1, 'will': 1, 'that': 1, 'great': 1, 'know': 1, 'with': 1, 'hold': 1, 'to': 2, 'think': 1, 'hate': 1, 'what': 1, 'it': 1, 'i’ve': 1, 'suffice': 1, 'had': 1}\n",
      "41\n",
      "41\n"
     ]
    }
   ],
   "source": [
    "poem = \"\"\"Some say the world will end in fire,\n",
    "Some say in ice.\n",
    "From what I’ve tasted of desire\n",
    "I hold with those who favor fire.\n",
    "But if it had to perish twice,\n",
    "I think I know enough of hate\n",
    "To say that for destruction ice\n",
    "Is also great\n",
    "And would suffice.\"\"\"\n",
    "\n",
    "# Your code here:\n",
    "\n",
    "poem_list = poem.lower().replace(\",\",\"\").replace(\".\",\"\").replace(\"\\n\",\" \").split()\n",
    "\n",
    "poem_set = set(poem_list)\n",
    "\n",
    "poem_unique_list = list(poem_set)\n",
    "\n",
    "poem_dict = {}\n",
    "   \n",
    "for item in poem_unique_list:\n",
    "    poem_dict[item]=poem_list.count(item)\n",
    "       \n",
    "print(\"poem_dict\", poem_dict)\n",
    "print(len(poem_set))\n",
    "print(len(poem_dict))"
   ]
  },
  {
   "cell_type": "markdown",
   "metadata": {},
   "source": [
    "In the cell below, find all the words that appear in the text and do not appear in the blacklist. You must parse the string but can choose any data structure you wish for the words that do not appear in the blacklist. Remove all non letter characters and convert all words to lower case."
   ]
  },
  {
   "cell_type": "code",
   "execution_count": 99,
   "metadata": {},
   "outputs": [
    {
     "name": "stdout",
     "output_type": "stream",
     "text": [
      "\n",
      "poem after regex:\n",
      " I was angry with my friend   I told my wrath  my wrath did end  I was angry with my foe   I told it not  my wrath did grow    And I waterd it in fears  Night   morning with my tears   And I sunned it with smiles  And with soft deceitful wiles    And it grew both day and night   Till it bore an apple bright   And my foe beheld it shine  And he knew that it was mine    And into my garden stole   When the night had veild the pole   In the morning glad I see   My foe outstretched beneath the tree \n",
      "\n",
      "new poem:\n",
      " ['i', 'was', 'angry', 'with', 'my', 'friend', 'i', 'told', 'my', 'wrath', 'my', 'wrath', 'did', 'end', 'i', 'was', 'angry', 'with', 'my', 'foe', 'i', 'told', 'it', 'not', 'my', 'wrath', 'did', 'grow', 'and', 'i', 'waterd', 'it', 'in', 'fears', 'night', 'morning', 'with', 'my', 'tears', 'and', 'i', 'sunned', 'it', 'with', 'smiles', 'and', 'with', 'soft', 'deceitful', 'wiles', 'and', 'it', 'grew', 'both', 'day', 'and', 'night', 'till', 'it', 'bore', 'an', 'apple', 'bright', 'and', 'my', 'foe', 'beheld', 'it', 'shine', 'and', 'he', 'knew', 'that', 'it', 'was', 'mine', 'and', 'into', 'my', 'garden', 'stole', 'when', 'the', 'night', 'had', 'veild', 'the', 'pole', 'in', 'the', 'morning', 'glad', 'i', 'see', 'my', 'foe', 'outstretched', 'beneath', 'the', 'tree']\n",
      "length poem:\n",
      ": 100\n",
      "length non_blacklisted_words before turn into set:\n",
      " 78\n",
      "\n",
      "\n",
      "result:\n",
      " ['i', 'was', 'angry', 'with', 'my', 'friend', 'i', 'told', 'my', 'wrath', 'my', 'wrath', 'did', 'end', 'i', 'was', 'angry', 'with', 'my', 'foe', 'i', 'told', 'not', 'my', 'wrath', 'did', 'grow', 'i', 'waterd', 'fears', 'night', 'morning', 'with', 'my', 'tears', 'i', 'sunned', 'with', 'smiles', 'with', 'soft', 'deceitful', 'wiles', 'grew', 'both', 'day', 'night', 'till', 'bore', 'apple', 'bright', 'my', 'foe', 'beheld', 'shine', 'he', 'knew', 'that', 'was', 'mine', 'into', 'my', 'garden', 'stole', 'when', 'night', 'had', 'veild', 'pole', 'morning', 'glad', 'i', 'see', 'my', 'foe', 'outstretched', 'beneath', 'tree']\n"
     ]
    }
   ],
   "source": [
    "blacklist = ['and', 'as', 'an', 'a', 'the', 'in', 'it']\n",
    "\n",
    "poem = \"\"\"I was angry with my friend; \n",
    "I told my wrath, my wrath did end.\n",
    "I was angry with my foe: \n",
    "I told it not, my wrath did grow. \n",
    "\n",
    "And I waterd it in fears,\n",
    "Night & morning with my tears: \n",
    "And I sunned it with smiles,\n",
    "And with soft deceitful wiles. \n",
    "\n",
    "And it grew both day and night. \n",
    "Till it bore an apple bright. \n",
    "And my foe beheld it shine,\n",
    "And he knew that it was mine. \n",
    "\n",
    "And into my garden stole, \n",
    "When the night had veild the pole; \n",
    "In the morning glad I see; \n",
    "My foe outstretched beneath the tree.\"\"\"\n",
    "\n",
    "# Your code here:\n",
    "\n",
    "#data cleaning:\n",
    "\n",
    "#remove all non-letter chars\n",
    "import re\n",
    "\n",
    "poem=re.sub(('[^a-zA-Z ]'),\" \",poem)\n",
    "print(\"\\npoem after regex:\\n\", poem)\n",
    "\n",
    "#convert all to lower case, remove linebreaks\n",
    "poem=poem.lower().replace(\"\\n\",\"\").split()\n",
    "print(\"\\nnew poem:\\n\", poem)\n",
    "\n",
    "#create new list with only non-blacklisted words\n",
    "non_blacklisted_words=[word for word in poem if word not in blacklist]\n",
    "\n",
    "#checking length to see if blacklisted words were removed\n",
    "print(\"length poem:\\n:\", len(poem))\n",
    "print(\"length non_blacklisted_words before turn into set:\\n\", len(non_blacklisted_words))\n",
    "\n",
    "#turning into a set to remove duplicates for final list\n",
    "set(non_blacklisted_words)\n",
    "\n",
    "print(\"\\n\\nresult:\\n\", non_blacklisted_words)\n"
   ]
  }
 ],
 "metadata": {
  "file_extension": ".py",
  "kernelspec": {
   "display_name": "Python 3",
   "language": "python",
   "name": "python3"
  },
  "language_info": {
   "codemirror_mode": {
    "name": "ipython",
    "version": 3
   },
   "file_extension": ".py",
   "mimetype": "text/x-python",
   "name": "python",
   "nbconvert_exporter": "python",
   "pygments_lexer": "ipython3",
   "version": "3.8.8"
  },
  "mimetype": "text/x-python",
  "name": "python",
  "npconvert_exporter": "python",
  "pygments_lexer": "ipython3",
  "version": 3
 },
 "nbformat": 4,
 "nbformat_minor": 2
}
