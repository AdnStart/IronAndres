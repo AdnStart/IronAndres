{
 "cells": [
  {
   "cell_type": "markdown",
   "id": "8cc45375",
   "metadata": {},
   "source": [
    "Data wrangling/cleaning process using MS Excel:\n",
    "\n",
    "Standardizing header names = manually, changing the name\n",
    "Deleting and rearranging columns\n",
    "Working with data types\n",
    "Filtering data\n",
    "Removing duplicates\n",
    "Correcting typos\n",
    "Conditional Formatting\n",
    "Replacing null values\n",
    "\n",
    "More about data wrangling/cleaning using MS Excel:\n",
    "\n",
    "String functions\n",
    "Standardizing data\n",
    "ImportRange and indirect (use the same data with spreadsheets)\n",
    "Using V lookups/H lookups"
   ]
  }
 ],
 "metadata": {
  "kernelspec": {
   "display_name": "Python 3",
   "language": "python",
   "name": "python3"
  },
  "language_info": {
   "codemirror_mode": {
    "name": "ipython",
    "version": 3
   },
   "file_extension": ".py",
   "mimetype": "text/x-python",
   "name": "python",
   "nbconvert_exporter": "python",
   "pygments_lexer": "ipython3",
   "version": "3.8.8"
  }
 },
 "nbformat": 4,
 "nbformat_minor": 5
}
